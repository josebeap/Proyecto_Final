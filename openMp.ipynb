{
 "cells": [
  {
   "cell_type": "code",
   "execution_count": 1,
   "metadata": {},
   "outputs": [
    {
     "name": "stdout",
     "output_type": "stream",
     "text": [
      "Writing pruebaC.c\n"
     ]
    }
   ],
   "source": [
    "%%writefile pruebaC.c\n",
    "#include <stdio.h>\n",
    "#include <stdlib.h>\n",
    "#include <omp.h>\n",
    "\n",
    "int main() {\n",
    "\n",
    "  // Definir el kernel\n",
    "  int kernelb[] = {0, 0, 0, 0, 0,\n",
    "                  0, 0, 1, 0, 0,\n",
    "                  0, 0, -1, 0, 0,\n",
    "                  0, 0, 0, 0, 0,\n",
    "                  0, 0, 0, 0, 0};\n",
    "\n",
    "  // Cargar la imagen\n",
    "  char *ruta = \"imagenes/cb-300f.jpg\";\n",
    "  Image *imagen = cargar_imagen(ruta);\n",
    "\n",
    "  // Convertir la imagen a un array de numpy\n",
    "  int *pixels = (int *)imagen->data;\n",
    "\n",
    "  // Preparar el array de salida\n",
    "  int *resultado = (int *)malloc(imagen->size * sizeof(int));\n",
    "\n",
    "  // Aplicar el filtro\n",
    "  #pragma omp parallel for\n",
    "  for (int i = half_kernel_size; i < imagen->height - half_kernel_size; i++) {\n",
    "    for (int j = half_kernel_size; j < imagen->width - half_kernel_size; j++) {\n",
    "      // Aplica el kernel\n",
    "      int gy = 0;\n",
    "      for (int k = -half_kernel_size; k <= half_kernel_size; k++) {\n",
    "        for (int l = -half_kernel_size; l <= half_kernel_size; l++) {\n",
    "          gy += pixels[(i + k) * imagen->width + j + l] * kernelb[k + half_kernel_size] * kernelb[l + half_kernel_size];\n",
    "        }\n",
    "      }\n",
    "      // Guarda el resultado\n",
    "      resultado[i * imagen->width + j] = min(255, abs(gy));\n",
    "    }\n",
    "  }\n",
    "\n",
    "  // Guardar la imagen\n",
    "  guardar_imagen(imagen, \"imagen_filtrada.jpg\");\n",
    "\n",
    "  // Liberar la memoria\n",
    "  free(pixels);\n",
    "  free(resultado);\n",
    "\n",
    "  return 0;\n",
    "}"
   ]
  },
  {
   "cell_type": "code",
   "execution_count": 2,
   "metadata": {},
   "outputs": [
    {
     "name": "stderr",
     "output_type": "stream",
     "text": [
      "\"gcc\" no se reconoce como un comando interno o externo,\n",
      "programa o archivo por lotes ejecutable.\n"
     ]
    }
   ],
   "source": [
    "!gcc pruebaC.c -o pruebaC"
   ]
  }
 ],
 "metadata": {
  "kernelspec": {
   "display_name": "Python 3",
   "language": "python",
   "name": "python3"
  },
  "language_info": {
   "codemirror_mode": {
    "name": "ipython",
    "version": 3
   },
   "file_extension": ".py",
   "mimetype": "text/x-python",
   "name": "python",
   "nbconvert_exporter": "python",
   "pygments_lexer": "ipython3",
   "version": "3.12.0"
  }
 },
 "nbformat": 4,
 "nbformat_minor": 2
}
